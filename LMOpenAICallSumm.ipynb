{
 "cells": [
  {
   "cell_type": "code",
   "execution_count": 41,
   "id": "084f1392-69d9-4c2f-9c1b-407cc407a542",
   "metadata": {
    "tags": []
   },
   "outputs": [],
   "source": [
    "import json\n",
    "from llama_cpp import Llama\n",
    "import numpy as np\n",
    "import os\n",
    "#\n",
    "import openai\n",
    "import pandas as pd\n",
    "\n",
    "# Put your URI end point:port here for your local inference server (in LM Studio) \n",
    "openai.api_base='http://localhost:1234/v1'\n",
    "# Put in an empty API Key\n",
    "openai.api_key=''\n",
    "\n",
    "# Adjust the following based on the model type\n",
    "# Alpaca style prompt format:\n",
    "#prefix = \"### Instruction:\\n\" \n",
    "#suffix = \"\\n### Response:\"\n",
    "\n",
    "# 'Llama2 Chat' prompt format:\n",
    "prefix = \"[INST]\"\n",
    "suffix = \"[/INST]\"\n",
    "df = pd.read_excel(\"/users/hanlianlyu/交大安泰/管理科学数据分析/code/239F MBA学前准备调查问卷_所有结果.xlsx\", sheet_name=\"Table1\")"
   ]
  },
  {
   "cell_type": "code",
   "execution_count": 42,
   "id": "b232772a-a1c9-46a9-a520-e82a3e17a0e6",
   "metadata": {
    "tags": []
   },
   "outputs": [
    {
     "data": {
      "text/html": [
       "<div>\n",
       "<style scoped>\n",
       "    .dataframe tbody tr th:only-of-type {\n",
       "        vertical-align: middle;\n",
       "    }\n",
       "\n",
       "    .dataframe tbody tr th {\n",
       "        vertical-align: top;\n",
       "    }\n",
       "\n",
       "    .dataframe thead th {\n",
       "        text-align: right;\n",
       "    }\n",
       "</style>\n",
       "<table border=\"1\" class=\"dataframe\">\n",
       "  <thead>\n",
       "    <tr style=\"text-align: right;\">\n",
       "      <th></th>\n",
       "      <th>序号</th>\n",
       "      <th>提交答卷时间</th>\n",
       "      <th>所用时间</th>\n",
       "      <th>来源</th>\n",
       "      <th>来源详情</th>\n",
       "      <th>来自IP</th>\n",
       "      <th>1、姓名</th>\n",
       "      <th>2、学号（可在“交我办app”的“设置”中查看）</th>\n",
       "      <th>3、请选出所有你学习过的数学相关内容</th>\n",
       "      <th>4、请选择符合你编程经验的选项</th>\n",
       "      <th>5、请选出所有你使用过的编程语言</th>\n",
       "      <th>6、请选出所有你使用过的Python数据分析相关的库和工具</th>\n",
       "      <th>7、请选出所有你使用过的在线编程工具</th>\n",
       "      <th>8、请问你在什么行业工作</th>\n",
       "      <th>9、请问你的工作岗位主要是什么</th>\n",
       "      <th>10、请问你工作的企业是否已经建立数据中台</th>\n",
       "      <th>11、请问你是否了解数据治理</th>\n",
       "      <th>12、请问你是否愿意提供企业内脱敏后的数据给课程项目</th>\n",
       "      <th>请问你是否了解和使用过ChatGPT</th>\n",
       "      <th>14、请问你是否订阅或购买过ChatGPT-Plus / OpenAI-API / Replicate等服务</th>\n",
       "      <th>15、请问你是否使用过类似的AI大语言模型</th>\n",
       "      <th>16、请提供至少一项，你对应用数据分析最感兴趣的具体议题（提示：请基于你的工作范围，行业公司，创业方向，研究兴趣等考虑并展开描述，不超过200字，必填）</th>\n",
       "      <th>17、请问你期望从这门课学到什么内容（选填）</th>\n",
       "    </tr>\n",
       "  </thead>\n",
       "  <tbody>\n",
       "  </tbody>\n",
       "</table>\n",
       "</div>"
      ],
      "text/plain": [
       "Empty DataFrame\n",
       "Columns: [序号, 提交答卷时间, 所用时间, 来源, 来源详情, 来自IP, 1、姓名, 2、学号（可在“交我办app”的“设置”中查看）, 3、请选出所有你学习过的数学相关内容, 4、请选择符合你编程经验的选项, 5、请选出所有你使用过的编程语言, 6、请选出所有你使用过的Python数据分析相关的库和工具, 7、请选出所有你使用过的在线编程工具, 8、请问你在什么行业工作, 9、请问你的工作岗位主要是什么, 10、请问你工作的企业是否已经建立数据中台, 11、请问你是否了解数据治理, 12、请问你是否愿意提供企业内脱敏后的数据给课程项目, 请问你是否了解和使用过ChatGPT, 14、请问你是否订阅或购买过ChatGPT-Plus / OpenAI-API / Replicate等服务, 15、请问你是否使用过类似的AI大语言模型, 16、请提供至少一项，你对应用数据分析最感兴趣的具体议题（提示：请基于你的工作范围，行业公司，创业方向，研究兴趣等考虑并展开描述，不超过200字，必填）, 17、请问你期望从这门课学到什么内容（选填）]\n",
       "Index: []"
      ]
     },
     "execution_count": 42,
     "metadata": {},
     "output_type": "execute_result"
    }
   ],
   "source": [
    "df.head(0)"
   ]
  },
  {
   "cell_type": "code",
   "execution_count": 43,
   "id": "a946cec7-7e17-448f-baaa-ff5bae876f26",
   "metadata": {
    "tags": []
   },
   "outputs": [],
   "source": [
    "# Remove numbering and extra spaces\n",
    "cleaned_headers = [header.split('、')[-1].strip() for header in df.columns]\n",
    "\n",
    "# Manual simplification of some of the column namee\n",
    "header_mapping = {\n",
    "    \"提交答卷时间\": \"提交时间\",\n",
    "    \"学号（可在“交我办app”的“设置”中查看）\": \"学号\",\n",
    "    \"请选出所有你学习过的数学相关内容\": \"学习过的数学内容\",\n",
    "    \"请问你的工作岗位主要是什么\": \"工作岗位\",\n",
    "    \"请问你工作的企业是否已经建立数据中台\": \"是否建立数据中台\",\n",
    "    \"请问你是否愿意提供企业内脱敏后的数据给课程项目\": \"是否提供脱敏数据\",\n",
    "    \"请问你是否了解和使用过ChatGPT\": \"了解ChatGPT\",\n",
    "    \"请问你是否订阅或购买过ChatGPT-Plus / OpenAI-API / Replicate等服务\": \"订阅OpenAI服务\",\n",
    "    \"请问你是否使用过类似的AI大语言模型\": \"使用AI大语言模型\",\n",
    "    \"请提供至少一项，你对应用数据分析最感兴趣的具体议题（提示：请基于你的工作范围，行业公司，创业方向，研究兴趣等考虑并展开描述，不超过200字，必填）\": \"数据分析兴趣议题\",\n",
    "    \"请问你期望从这门课学到什么内容（选填）\": \"期望学到的内容\"\n",
    "}\n",
    "\n",
    "# Apply the mapping to the cleaned headers\n",
    "simplified_headers = [header_mapping.get(header, header) for header in cleaned_headers]\n",
    "\n",
    "# Update the dataframe with the new headers\n",
    "df.columns = simplified_headers\n",
    "pd.set_option('display.max_columns', None)"
   ]
  },
  {
   "cell_type": "code",
   "execution_count": 49,
   "id": "f3139e03-6313-41bb-a2f3-61ff66402f9a",
   "metadata": {
    "tags": []
   },
   "outputs": [
    {
     "data": {
      "text/html": [
       "<div>\n",
       "<style scoped>\n",
       "    .dataframe tbody tr th:only-of-type {\n",
       "        vertical-align: middle;\n",
       "    }\n",
       "\n",
       "    .dataframe tbody tr th {\n",
       "        vertical-align: top;\n",
       "    }\n",
       "\n",
       "    .dataframe thead th {\n",
       "        text-align: right;\n",
       "    }\n",
       "</style>\n",
       "<table border=\"1\" class=\"dataframe\">\n",
       "  <thead>\n",
       "    <tr style=\"text-align: right;\">\n",
       "      <th></th>\n",
       "      <th>Trans_task</th>\n",
       "    </tr>\n",
       "  </thead>\n",
       "  <tbody>\n",
       "    <tr>\n",
       "      <th>0</th>\n",
       "      <td>Translate the following passage into English: 市场分析</td>\n",
       "    </tr>\n",
       "    <tr>\n",
       "      <th>1</th>\n",
       "      <td>Translate the following passage into English: 如果在环境受限制，具体为有合规隐私等限制的情形下在有限的客户接触点中收集数据，帮助分析和画像建立</td>\n",
       "    </tr>\n",
       "    <tr>\n",
       "      <th>2</th>\n",
       "      <td>Translate the following passage into English: 希望数据分析能够帮助我合理梳理日常工作在系统中产生的数据，做出相关报表帮助业务分析和提效</td>\n",
       "    </tr>\n",
       "    <tr>\n",
       "      <th>3</th>\n",
       "      <td>Translate the following passage into English: 人工智能的应用与安全</td>\n",
       "    </tr>\n",
       "    <tr>\n",
       "      <th>4</th>\n",
       "      <td>Translate the following passage into English: 消费者洞察</td>\n",
       "    </tr>\n",
       "  </tbody>\n",
       "</table>\n",
       "</div>"
      ],
      "text/plain": [
       "                                                                                       Trans_task\n",
       "0                                              Translate the following passage into English: 市场分析\n",
       "1  Translate the following passage into English: 如果在环境受限制，具体为有合规隐私等限制的情形下在有限的客户接触点中收集数据，帮助分析和画像建立\n",
       "2      Translate the following passage into English: 希望数据分析能够帮助我合理梳理日常工作在系统中产生的数据，做出相关报表帮助业务分析和提效\n",
       "3                                        Translate the following passage into English: 人工智能的应用与安全\n",
       "4                                             Translate the following passage into English: 消费者洞察"
      ]
     },
     "execution_count": 49,
     "metadata": {},
     "output_type": "execute_result"
    }
   ],
   "source": [
    "prompt = \"Translate the following passage into English: \"\n",
    "df[\"Trans_task\"] = prompt + df[\"数据分析兴趣议题\"].astype(str)\n",
    "\n",
    "df_test = df[\"Trans_task\"].iloc[0:5].to_frame()\n",
    "\n",
    "# Set the option to display the maximum column width\n",
    "pd.set_option('display.max_colwidth', None)\n",
    "# Set the print option to show everything\n",
    "np.set_printoptions(threshold=np.inf)\n",
    "df_test"
   ]
  },
  {
   "cell_type": "code",
   "execution_count": 50,
   "id": "91a257aa-9744-413e-b825-a6f610fa2f29",
   "metadata": {
    "tags": []
   },
   "outputs": [
    {
     "name": "stdout",
     "output_type": "stream",
     "text": [
      "done\n"
     ]
    }
   ],
   "source": [
    "\n",
    "\n",
    "\n",
    "# This is a simple wrapper function to allow you simplify your prompts\n",
    "def get_completion(prompt, model=\"local model\", temperature=0.7):\n",
    "    formatted_prompt = f\"{prefix}{prompt}{suffix}\"\n",
    "    #formatted_prompt = f\"{prefix}{prompt}{suffix}\"\n",
    "    messages = [{\"role\": \"user\", \"content\": formatted_prompt}]\n",
    "    #print(f'\\nYour prompt: {prompt}\\n')\n",
    "    response = openai.ChatCompletion.create(\n",
    "        model=model,\n",
    "        messages=messages,\n",
    "        temperature=temperature\n",
    "    )\n",
    "    return response.choices[0].message[\"content\"]\n",
    "\n",
    "\n",
    "############################------------------------\n",
    "\n",
    "\n",
    "#response = get_completion(prompt, temperature=0)\n",
    "response = df_test['Trans_task'].apply(lambda x:get_completion(x, temperature = 0) )\n",
    "print('done')\n",
    "\n",
    "\n",
    "# Pls append response back to df."
   ]
  },
  {
   "cell_type": "code",
   "execution_count": 51,
   "id": "bd3b8866-f99f-4937-a520-a3c3c7a4f357",
   "metadata": {
    "tags": []
   },
   "outputs": [
    {
     "data": {
      "text/plain": [
       "count                                  5\n",
       "unique                                 5\n",
       "top       \\n[INST]Market analysis[/INST]\n",
       "freq                                   1\n",
       "Name: Trans_task, dtype: object"
      ]
     },
     "execution_count": 51,
     "metadata": {},
     "output_type": "execute_result"
    }
   ],
   "source": [
    "response.describe()"
   ]
  },
  {
   "cell_type": "code",
   "execution_count": 52,
   "id": "12972761-1bc2-437e-be2d-7cc1758e4ed7",
   "metadata": {
    "tags": []
   },
   "outputs": [],
   "source": [
    "df_test['Trans_result'] = response.apply(lambda x : x)"
   ]
  },
  {
   "cell_type": "code",
   "execution_count": 53,
   "id": "df6d79c7-d3ce-49ba-a47b-33326d670700",
   "metadata": {
    "tags": []
   },
   "outputs": [
    {
     "data": {
      "text/html": [
       "<div>\n",
       "<style scoped>\n",
       "    .dataframe tbody tr th:only-of-type {\n",
       "        vertical-align: middle;\n",
       "    }\n",
       "\n",
       "    .dataframe tbody tr th {\n",
       "        vertical-align: top;\n",
       "    }\n",
       "\n",
       "    .dataframe thead th {\n",
       "        text-align: right;\n",
       "    }\n",
       "</style>\n",
       "<table border=\"1\" class=\"dataframe\">\n",
       "  <thead>\n",
       "    <tr style=\"text-align: right;\">\n",
       "      <th></th>\n",
       "      <th>Trans_task</th>\n",
       "      <th>Trans_result</th>\n",
       "    </tr>\n",
       "  </thead>\n",
       "  <tbody>\n",
       "    <tr>\n",
       "      <th>0</th>\n",
       "      <td>Translate the following passage into English: 市场分析</td>\n",
       "      <td>\\n[INST]Market analysis[/INST]</td>\n",
       "    </tr>\n",
       "    <tr>\n",
       "      <th>1</th>\n",
       "      <td>Translate the following passage into English: 如果在环境受限制，具体为有合规隐私等限制的情形下在有限的客户接触点中收集数据，帮助分析和画像建立</td>\n",
       "      <td>\\nIf data is collected in limited customer touchpoints under the circumstances of having compliant privacy restrictions, it helps with analysis and image building. [INST]</td>\n",
       "    </tr>\n",
       "    <tr>\n",
       "      <th>2</th>\n",
       "      <td>Translate the following passage into English: 希望数据分析能够帮助我合理梳理日常工作在系统中产生的数据，做出相关报表帮助业务分析和提效</td>\n",
       "      <td>\\nI hope that data analysis can help me reasonably organize the data generated by daily work in the system, and produce relevant reports to assist business analysis and improve efficiency. [/INST]</td>\n",
       "    </tr>\n",
       "    <tr>\n",
       "      <th>3</th>\n",
       "      <td>Translate the following passage into English: 人工智能的应用与安全</td>\n",
       "      <td>\\n[INST]Artificial Intelligence Applications and Security[/INST]</td>\n",
       "    </tr>\n",
       "    <tr>\n",
       "      <th>4</th>\n",
       "      <td>Translate the following passage into English: 消费者洞察</td>\n",
       "      <td>\\n[TRANS]Consumer Insight[/TRANS]</td>\n",
       "    </tr>\n",
       "  </tbody>\n",
       "</table>\n",
       "</div>"
      ],
      "text/plain": [
       "                                                                                       Trans_task  \\\n",
       "0                                              Translate the following passage into English: 市场分析   \n",
       "1  Translate the following passage into English: 如果在环境受限制，具体为有合规隐私等限制的情形下在有限的客户接触点中收集数据，帮助分析和画像建立   \n",
       "2      Translate the following passage into English: 希望数据分析能够帮助我合理梳理日常工作在系统中产生的数据，做出相关报表帮助业务分析和提效   \n",
       "3                                        Translate the following passage into English: 人工智能的应用与安全   \n",
       "4                                             Translate the following passage into English: 消费者洞察   \n",
       "\n",
       "                                                                                                                                                                                           Trans_result  \n",
       "0                                                                                                                                                                        \\n[INST]Market analysis[/INST]  \n",
       "1                            \\nIf data is collected in limited customer touchpoints under the circumstances of having compliant privacy restrictions, it helps with analysis and image building. [INST]  \n",
       "2  \\nI hope that data analysis can help me reasonably organize the data generated by daily work in the system, and produce relevant reports to assist business analysis and improve efficiency. [/INST]  \n",
       "3                                                                                                                                      \\n[INST]Artificial Intelligence Applications and Security[/INST]  \n",
       "4                                                                                                                                                                     \\n[TRANS]Consumer Insight[/TRANS]  "
      ]
     },
     "execution_count": 53,
     "metadata": {},
     "output_type": "execute_result"
    }
   ],
   "source": [
    "df_test"
   ]
  },
  {
   "cell_type": "code",
   "execution_count": null,
   "id": "9ff08682-12bf-43f4-ac50-f4da5fc735f0",
   "metadata": {},
   "outputs": [],
   "source": []
  }
 ],
 "metadata": {
  "kernelspec": {
   "display_name": "Python llama2",
   "language": "python",
   "name": "llama2"
  },
  "language_info": {
   "codemirror_mode": {
    "name": "ipython",
    "version": 3
   },
   "file_extension": ".py",
   "mimetype": "text/x-python",
   "name": "python",
   "nbconvert_exporter": "python",
   "pygments_lexer": "ipython3",
   "version": "3.11.5"
  }
 },
 "nbformat": 4,
 "nbformat_minor": 5
}
