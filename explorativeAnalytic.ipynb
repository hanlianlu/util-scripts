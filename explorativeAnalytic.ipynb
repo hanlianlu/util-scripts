{
 "cells": [
  {
   "cell_type": "code",
   "execution_count": null,
   "id": "1e374475-ee43-43b4-b6f0-8b36fa2b3094",
   "metadata": {
    "tags": []
   },
   "outputs": [],
   "source": [
    "# Import necessary libraries\n",
    "import seaborn as sns\n",
    "import pandas as pd\n",
    "import numpy as np\n",
    "\n",
    "# Generate random data\n",
    "np.random.seed(0)\n",
    "Sal = np.random.rand(100)*100\n",
    "Temp = Sal**2 + np.random.rand(100)*10000\n",
    "\n",
    "# Create a DataFrame\n",
    "df_binary = pd.DataFrame({'Sal': Sal, 'Temp': Temp})\n",
    "\n",
    "# Generate the lmplot\n",
    "sns.lmplot(x =\"Sal\", y =\"Temp\", data = df_binary, order = 2, ci = None)"
   ]
  },
  {
   "cell_type": "code",
   "execution_count": null,
   "id": "ea8b3932-5fe5-4124-9d6e-c11de080bf84",
   "metadata": {
    "tags": []
   },
   "outputs": [],
   "source": [
    "# Import necessary libraries\n",
    "import seaborn as sns\n",
    "import pandas as pd\n",
    "import numpy as np\n",
    "\n",
    "# Set the random seed for reproducibility\n",
    "np.random.seed(0)\n",
    "\n",
    "# Generate some random data\n",
    "data = pd.DataFrame(data = np.random.rand(50, 4), columns = ['A', 'B', 'C', 'D'])\n",
    "\n",
    "# Create a boxplot\n",
    "sns.boxplot(data=data)\n"
   ]
  },
  {
   "cell_type": "code",
   "execution_count": null,
   "id": "8f799cd6-518a-4197-ad85-c37d29718c3e",
   "metadata": {
    "tags": []
   },
   "outputs": [],
   "source": [
    "import numpy as np\n",
    "import matplotlib.pyplot as plt\n",
    "import scipy.stats as stats\n",
    "\n",
    "# Generate a random dataset\n",
    "mu, sigma = 0, 0.1 # mean and standard deviation\n",
    "s = np.random.normal(mu, sigma, 1000)\n",
    "\n",
    "# Create a histogram for the data\n",
    "plt.figure(figsize=(12,6))\n",
    "plt.subplot(1, 2, 1)\n",
    "plt.hist(s, bins=30, density=True)\n",
    "plt.title('Histogram')\n",
    "\n",
    "# Create a QQ-plot for the data\n",
    "plt.subplot(1, 2, 2)\n",
    "stats.probplot(s, plot=plt)\n",
    "plt.title('QQ-Plot')\n",
    "\n",
    "# Show the plots\n",
    "plt.show()\n"
   ]
  },
  {
   "cell_type": "code",
   "execution_count": null,
   "id": "e2f63584-5a78-482c-b0ce-dd11f2890ea4",
   "metadata": {
    "tags": []
   },
   "outputs": [],
   "source": [
    "import seaborn as sns; sns.set_theme(style=\"darkgrid\")\n",
    "import numpy as np\n",
    "import matplotlib.pyplot as plt\n",
    "\n",
    "# 生成一些示例数据\n",
    "np.random.seed(0)\n",
    "x = np.random.randn(100)\n",
    "y = x + np.random.randn(100)\n",
    "\n"
   ]
  },
  {
   "cell_type": "code",
   "execution_count": null,
   "id": "8c8ec127-ed3f-4b3c-a6bf-4ceb6d642062",
   "metadata": {
    "tags": []
   },
   "outputs": [],
   "source": [
    "import pandas as pd\n",
    "\n",
    "# 将数据转换为 DataFrame\n",
    "data = pd.DataFrame({\"x\": x, \"y\": y})\n",
    "\n",
    "# 重新绘制图形\n",
    "plt.figure(figsize=(6, 5))\n",
    "sns.scatterplot(x=\"x\", y=\"y\", data=data)\n",
    "plt.title(\"scatterplot\")\n",
    "plt.show()\n",
    "\n",
    "sns.lmplot(x=\"x\", y=\"y\", data=data, height=5, aspect=1.5)\n",
    "plt.title(\"lmplot with regression line\")\n",
    "plt.show()"
   ]
  },
  {
   "cell_type": "code",
   "execution_count": null,
   "id": "740a638d-fd2f-435b-a262-c2eb123b1804",
   "metadata": {
    "tags": []
   },
   "outputs": [],
   "source": [
    "import seaborn as sns\n",
    "\n",
    "# 排除 'id' 列\n",
    "cols_to_plot = data.columns[data.columns != 'id']\n",
    "\n",
    "sns.pairplot(data[cols_to_plot])\n"
   ]
  },
  {
   "cell_type": "code",
   "execution_count": null,
   "id": "b75deff8-d758-4f34-b32c-3cb2be40d1a6",
   "metadata": {
    "tags": []
   },
   "outputs": [],
   "source": [
    "import seaborn as sns\n",
    "import pandas as pd\n",
    "import numpy as np\n",
    "\n",
    "# 创建示例 DataFrame\n",
    "np.random.seed(42)\n",
    "data = pd.DataFrame({\n",
    "    'id': np.arange(100),\n",
    "    'A': np.random.randn(100),\n",
    "    'B': np.random.randn(100),\n",
    "    'C': np.random.randn(100),\n",
    "    'D': np.random.randn(100),\n",
    "    'E': np.random.randn(100),\n",
    "    'F': np.random.randn(100),\n",
    "    'G': np.random.randn(100),\n",
    "    'H': np.random.randn(100),\n",
    "    'I': np.random.randn(100),\n",
    "    'J': np.random.randn(100)\n",
    "})\n",
    "\n",
    "# 移除 id 列\n",
    "cols = data.columns.drop('id')\n",
    "\n",
    "# 为每一对列绘制 lmplot\n",
    "for i in range(len(cols)):\n",
    "    for j in range(i+1, len(cols)):\n",
    "        sns.lmplot(x=cols[i], y=cols[j], data=data)\n",
    "        plt.title(f'{cols[i]} vs {cols[j]}')\n"
   ]
  },
  {
   "cell_type": "code",
   "execution_count": null,
   "id": "83ea752a-f247-4731-97f1-30626c5093ee",
   "metadata": {},
   "outputs": [],
   "source": []
  }
 ],
 "metadata": {
  "kernelspec": {
   "display_name": "Python llama2",
   "language": "python",
   "name": "llama2"
  },
  "language_info": {
   "codemirror_mode": {
    "name": "ipython",
    "version": 3
   },
   "file_extension": ".py",
   "mimetype": "text/x-python",
   "name": "python",
   "nbconvert_exporter": "python",
   "pygments_lexer": "ipython3",
   "version": "3.11.5"
  }
 },
 "nbformat": 4,
 "nbformat_minor": 5
}
