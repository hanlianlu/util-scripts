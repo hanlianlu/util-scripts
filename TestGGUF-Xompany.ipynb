{
 "cells": [
  {
   "cell_type": "code",
   "execution_count": null,
   "id": "846e0d14-c860-4057-9843-100df9e51d69",
   "metadata": {
    "tags": []
   },
   "outputs": [],
   "source": [
    "import json\n",
    "from llama_cpp import Llama\n",
    "import numpy as np\n",
    "import pandas as pd\n",
    "import openai\n",
    "import os\n",
    "\n",
    "import logging\n",
    "\n",
    "#del os.environ[\"GLOG_minloglevel\"]\n",
    "#logging.getLogger(\"/Users/hanlianlyu/llama2/TheBloke/Llama-2-7B-GGUF/llama-2-7b.Q6_K.gguf\").setLevel(logging.CRITICAL)\n",
    "\n",
    "llm = Llama(model_path=\"/Users/hanlianlyu/llama2/TheBloke/OpenOrca-Platypus2-13B-GGUF/openorca-platypus2-13B-Q4_K_M.gguf\")\n",
    "\n",
    "df = pd.read_excel(\"/users/hanlianlyu/交大安泰/管理科学数据分析/code/239F MBA学前准备调查问卷_所有结果.xlsx\", sheet_name=\"Table1\")"
   ]
  },
  {
   "cell_type": "code",
   "execution_count": 100,
   "id": "9375b8fe-5aed-4d7a-ab70-4943a6a0c3cd",
   "metadata": {},
   "outputs": [
    {
     "data": {
      "text/html": [
       "<div>\n",
       "<style scoped>\n",
       "    .dataframe tbody tr th:only-of-type {\n",
       "        vertical-align: middle;\n",
       "    }\n",
       "\n",
       "    .dataframe tbody tr th {\n",
       "        vertical-align: top;\n",
       "    }\n",
       "\n",
       "    .dataframe thead th {\n",
       "        text-align: right;\n",
       "    }\n",
       "</style>\n",
       "<table border=\"1\" class=\"dataframe\">\n",
       "  <thead>\n",
       "    <tr style=\"text-align: right;\">\n",
       "      <th></th>\n",
       "      <th>序号</th>\n",
       "      <th>提交时间</th>\n",
       "      <th>所用时间</th>\n",
       "      <th>来源</th>\n",
       "      <th>来源详情</th>\n",
       "      <th>来自IP</th>\n",
       "      <th>姓名</th>\n",
       "      <th>学号</th>\n",
       "      <th>学习过的数学内容</th>\n",
       "      <th>请选择符合你编程经验的选项</th>\n",
       "      <th>请选出所有你使用过的编程语言</th>\n",
       "      <th>请选出所有你使用过的Python数据分析相关的库和工具</th>\n",
       "      <th>请选出所有你使用过的在线编程工具</th>\n",
       "      <th>请问你在什么行业工作</th>\n",
       "      <th>工作岗位</th>\n",
       "      <th>是否建立数据中台</th>\n",
       "      <th>请问你是否了解数据治理</th>\n",
       "      <th>是否提供脱敏数据</th>\n",
       "      <th>了解ChatGPT</th>\n",
       "      <th>订阅OpenAI服务</th>\n",
       "      <th>使用AI大语言模型</th>\n",
       "      <th>数据分析兴趣议题</th>\n",
       "      <th>期望学到的内容</th>\n",
       "      <th>Trans_result</th>\n",
       "      <th>summarized</th>\n",
       "      <th>Trans_task</th>\n",
       "    </tr>\n",
       "  </thead>\n",
       "  <tbody>\n",
       "  </tbody>\n",
       "</table>\n",
       "</div>"
      ],
      "text/plain": [
       "Empty DataFrame\n",
       "Columns: [序号, 提交时间, 所用时间, 来源, 来源详情, 来自IP, 姓名, 学号, 学习过的数学内容, 请选择符合你编程经验的选项, 请选出所有你使用过的编程语言, 请选出所有你使用过的Python数据分析相关的库和工具, 请选出所有你使用过的在线编程工具, 请问你在什么行业工作, 工作岗位, 是否建立数据中台, 请问你是否了解数据治理, 是否提供脱敏数据, 了解ChatGPT, 订阅OpenAI服务, 使用AI大语言模型, 数据分析兴趣议题, 期望学到的内容, Trans_result, summarized, Trans_task]\n",
       "Index: []"
      ]
     },
     "execution_count": 100,
     "metadata": {},
     "output_type": "execute_result"
    }
   ],
   "source": [
    "# Remove numbering and extra spaces\n",
    "cleaned_headers = [header.split('、')[-1].strip() for header in df.columns]\n",
    "\n",
    "# Manual simplification of some of the column namee\n",
    "header_mapping = {\n",
    "    \"提交答卷时间\": \"提交时间\",\n",
    "    \"学号（可在“交我办app”的“设置”中查看）\": \"学号\",\n",
    "    \"请选出所有你学习过的数学相关内容\": \"学习过的数学内容\",\n",
    "    \"请问你的工作岗位主要是什么\": \"工作岗位\",\n",
    "    \"请问你工作的企业是否已经建立数据中台\": \"是否建立数据中台\",\n",
    "    \"请问你是否愿意提供企业内脱敏后的数据给课程项目\": \"是否提供脱敏数据\",\n",
    "    \"请问你是否了解和使用过ChatGPT\": \"了解ChatGPT\",\n",
    "    \"请问你是否订阅或购买过ChatGPT-Plus / OpenAI-API / Replicate等服务\": \"订阅OpenAI服务\",\n",
    "    \"请问你是否使用过类似的AI大语言模型\": \"使用AI大语言模型\",\n",
    "    \"请提供至少一项，你对应用数据分析最感兴趣的具体议题（提示：请基于你的工作范围，行业公司，创业方向，研究兴趣等考虑并展开描述，不超过200字，必填）\": \"数据分析兴趣议题\",\n",
    "    \"请问你期望从这门课学到什么内容（选填）\": \"期望学到的内容\"\n",
    "}\n",
    "\n",
    "# Apply the mapping to the cleaned headers\n",
    "simplified_headers = [header_mapping.get(header, header) for header in cleaned_headers]\n",
    "\n",
    "# Update the dataframe with the new headers\n",
    "df.columns = simplified_headers\n",
    "pd.set_option('display.max_columns', None)\n",
    "df.head(0)"
   ]
  },
  {
   "cell_type": "code",
   "execution_count": 122,
   "id": "94e71a45-af1a-4a49-b3c1-7526e557d934",
   "metadata": {
    "tags": []
   },
   "outputs": [
    {
     "data": {
      "text/html": [
       "<div>\n",
       "<style scoped>\n",
       "    .dataframe tbody tr th:only-of-type {\n",
       "        vertical-align: middle;\n",
       "    }\n",
       "\n",
       "    .dataframe tbody tr th {\n",
       "        vertical-align: top;\n",
       "    }\n",
       "\n",
       "    .dataframe thead th {\n",
       "        text-align: right;\n",
       "    }\n",
       "</style>\n",
       "<table border=\"1\" class=\"dataframe\">\n",
       "  <thead>\n",
       "    <tr style=\"text-align: right;\">\n",
       "      <th></th>\n",
       "      <th>Trans_task</th>\n",
       "    </tr>\n",
       "  </thead>\n",
       "  <tbody>\n",
       "    <tr>\n",
       "      <th>0</th>\n",
       "      <td>Translate the Chinese passage into English: 市场分析</td>\n",
       "    </tr>\n",
       "    <tr>\n",
       "      <th>1</th>\n",
       "      <td>Translate the Chinese passage into English: 如果在环境受限制，具体为有合规隐私等限制的情形下在有限的客户接触点中收集数据，帮助分析和画像建立</td>\n",
       "    </tr>\n",
       "    <tr>\n",
       "      <th>2</th>\n",
       "      <td>Translate the Chinese passage into English: 希望数据分析能够帮助我合理梳理日常工作在系统中产生的数据，做出相关报表帮助业务分析和提效</td>\n",
       "    </tr>\n",
       "    <tr>\n",
       "      <th>3</th>\n",
       "      <td>Translate the Chinese passage into English: 人工智能的应用与安全</td>\n",
       "    </tr>\n",
       "    <tr>\n",
       "      <th>4</th>\n",
       "      <td>Translate the Chinese passage into English: 消费者洞察</td>\n",
       "    </tr>\n",
       "  </tbody>\n",
       "</table>\n",
       "</div>"
      ],
      "text/plain": [
       "                                                                                     Trans_task\n",
       "0                                              Translate the Chinese passage into English: 市场分析\n",
       "1  Translate the Chinese passage into English: 如果在环境受限制，具体为有合规隐私等限制的情形下在有限的客户接触点中收集数据，帮助分析和画像建立\n",
       "2      Translate the Chinese passage into English: 希望数据分析能够帮助我合理梳理日常工作在系统中产生的数据，做出相关报表帮助业务分析和提效\n",
       "3                                        Translate the Chinese passage into English: 人工智能的应用与安全\n",
       "4                                             Translate the Chinese passage into English: 消费者洞察"
      ]
     },
     "execution_count": 122,
     "metadata": {},
     "output_type": "execute_result"
    }
   ],
   "source": [
    "prompt = \"Translate the Chinese passage into English: \"\n",
    "df[\"Trans_task\"] = prompt + df[\"数据分析兴趣议题\"].astype(str)\n",
    "\n",
    "df_test = df[\"Trans_task\"].iloc[0:5].to_frame()\n",
    "df_test"
   ]
  },
  {
   "cell_type": "code",
   "execution_count": 127,
   "id": "f805e1fd-6992-43f2-9ec4-e864c0fa4431",
   "metadata": {
    "tags": []
   },
   "outputs": [
    {
     "name": "stderr",
     "output_type": "stream",
     "text": [
      "Llama.generate: prefix-match hit\n",
      "\n",
      "llama_print_timings:        load time = 14084.85 ms\n",
      "llama_print_timings:      sample time =    33.92 ms /    43 runs   (    0.79 ms per token,  1267.61 tokens per second)\n",
      "llama_print_timings: prompt eval time =   789.26 ms /     7 tokens (  112.75 ms per token,     8.87 tokens per second)\n",
      "llama_print_timings:        eval time =  4298.11 ms /    42 runs   (  102.34 ms per token,     9.77 tokens per second)\n",
      "llama_print_timings:       total time =  5183.68 ms\n",
      "Llama.generate: prefix-match hit\n",
      "\n",
      "llama_print_timings:        load time = 14084.85 ms\n",
      "llama_print_timings:      sample time =    55.36 ms /    70 runs   (    0.79 ms per token,  1264.47 tokens per second)\n",
      "llama_print_timings: prompt eval time =  9690.56 ms /    69 tokens (  140.44 ms per token,     7.12 tokens per second)\n",
      "llama_print_timings:        eval time =  7046.22 ms /    69 runs   (  102.12 ms per token,     9.79 tokens per second)\n",
      "llama_print_timings:       total time = 16892.67 ms\n",
      "Llama.generate: prefix-match hit\n",
      "\n",
      "llama_print_timings:        load time = 14084.85 ms\n",
      "llama_print_timings:      sample time =    29.30 ms /    37 runs   (    0.79 ms per token,  1262.97 tokens per second)\n",
      "llama_print_timings: prompt eval time =  9366.42 ms /    63 tokens (  148.67 ms per token,     6.73 tokens per second)\n",
      "llama_print_timings:        eval time =  3649.90 ms /    36 runs   (  101.39 ms per token,     9.86 tokens per second)\n",
      "llama_print_timings:       total time = 13097.22 ms\n",
      "Llama.generate: prefix-match hit\n",
      "\n",
      "llama_print_timings:        load time = 14084.85 ms\n",
      "llama_print_timings:      sample time =    32.38 ms /    41 runs   (    0.79 ms per token,  1266.21 tokens per second)\n",
      "llama_print_timings: prompt eval time =  1088.11 ms /    11 tokens (   98.92 ms per token,    10.11 tokens per second)\n",
      "llama_print_timings:        eval time =  4011.15 ms /    40 runs   (  100.28 ms per token,     9.97 tokens per second)\n",
      "llama_print_timings:       total time =  5187.61 ms\n",
      "Llama.generate: prefix-match hit\n"
     ]
    },
    {
     "name": "stdout",
     "output_type": "stream",
     "text": [
      "Creation Start\n",
      "\n",
      "Creation DONE\n"
     ]
    },
    {
     "name": "stderr",
     "output_type": "stream",
     "text": [
      "\n",
      "llama_print_timings:        load time = 14084.85 ms\n",
      "llama_print_timings:      sample time =    19.05 ms /    24 runs   (    0.79 ms per token,  1259.51 tokens per second)\n",
      "llama_print_timings: prompt eval time =  1031.94 ms /    10 tokens (  103.19 ms per token,     9.69 tokens per second)\n",
      "llama_print_timings:        eval time =  2412.91 ms /    23 runs   (  104.91 ms per token,     9.53 tokens per second)\n",
      "llama_print_timings:       total time =  3497.53 ms\n"
     ]
    }
   ],
   "source": [
    "#prefix = \"[INST]\"\n",
    "#suffix = \"[/INST]\"\n",
    "prompt = f\"\"\"[INST] <<SYS>>\n",
    "You are an AI translator, your answers should follow the requirement.\n",
    "<</SYS>>\n",
    "{prompt}[/INST]\"\"\"\n",
    "def get_completion(prompt, model= llm , temperature=0.75):\n",
    "    #formatted_prompt = f\"{prefix}{prompt}{suffix}\"\n",
    "    formatted_prompt = prompt\n",
    "    #messages = [{\"role\": \"user\", \"content\": formatted_prompt}]\n",
    "    messages = f\"{formatted_prompt} \"\n",
    "    #print(f'\\nYour prompt: {prompt}\\n')\n",
    "    response = llm.create_completion(\n",
    "        prompt=messages,\n",
    "        temperature=temperature,\n",
    "        top_p = 0.95,\n",
    "        max_tokens= 1000\n",
    "    )\n",
    "    #return response.choices[0].message[\"content\"]\n",
    "    return response\n",
    "\n",
    "response = df_test['Trans_task'].apply(lambda x:get_completion(x, temperature = 0) )\n",
    "#response = df_test['Trans_task'].apply(lambda x:llm.create_completion(x, suffix=None, max_tokens=1000, temperature=0.7, top_p=0.95, logprobs=None, echo=False, stop=[], frequency_penalty=0.0, presence_penalty=0.0, repeat_penalty=1.1, top_k=40, stream=False, tfs_z=1.0, mirostat_mode=0, mirostat_tau=5.0, mirostat_eta=0.1, model=None, stopping_criteria=None, logits_processor=None, grammar=None) )\n",
    "print('Creation Start\\n')\n",
    "#response = df_test['Trans_result'].apply(lambda x:llm(x, max_tokens = -1, echo=False, stop = [\"\\n\"]))\n",
    "print('Creation DONE')"
   ]
  },
  {
   "cell_type": "code",
   "execution_count": 128,
   "id": "5c04012b-e726-477c-a3a2-9dee5351e9b2",
   "metadata": {
    "tags": []
   },
   "outputs": [
    {
     "data": {
      "text/plain": [
       "0                                                                                                                                                                                                                                                           {'id': 'cmpl-33ea12a7-93ef-4861-9733-bfbf5107eddb', 'object': 'text_completion', 'created': 1695187643, 'model': '/Users/hanlianlyu/llama2/TheBloke/OpenOrca-Platypus2-13B-GGUF/openorca-platypus2-13B-Q4_K_M.gguf', 'choices': [{'text': '（Market Analysis）\n",
       "\n",
       "The given Chinese text \"市场分析\" (Shìchǎng Fēnjī) can be translated into English as \"Market Analysis.\"', 'index': 0, 'logprobs': None, 'finish_reason': 'stop'}], 'usage': {'prompt_tokens': 17, 'completion_tokens': 42, 'total_tokens': 59}}\n",
       "1    {'id': 'cmpl-5f16e8ba-036c-4abe-8bb9-ed8a5ea71543', 'object': 'text_completion', 'created': 1695187648, 'model': '/Users/hanlianlyu/llama2/TheBloke/OpenOrca-Platypus2-13B-GGUF/openorca-platypus2-13B-Q4_K_M.gguf', 'choices': [{'text': '。\n",
       "\n",
       "If data is collected in limited customer touchpoints under the circumstances of having compliant privacy restrictions, it helps with analysis and image building.\n",
       "\n",
       "In a restricted environment with specific limitations, such as having compliant privacy regulations, collecting data in limited customer contact points can help with analysis and image construction.', 'index': 0, 'logprobs': None, 'finish_reason': 'stop'}], 'usage': {'prompt_tokens': 79, 'completion_tokens': 69, 'total_tokens': 148}}\n",
       "2                                                                                                                                                                                    {'id': 'cmpl-0bc89ca0-25d9-4de0-a811-3c14e1c6a3e9', 'object': 'text_completion', 'created': 1695187665, 'model': '/Users/hanlianlyu/llama2/TheBloke/OpenOrca-Platypus2-13B-GGUF/openorca-platypus2-13B-Q4_K_M.gguf', 'choices': [{'text': '。\n",
       "\n",
       "I hope data analysis can help me reasonably organize the data generated in daily work within the system, and produce relevant reports to assist business analysis and improve efficiency.', 'index': 0, 'logprobs': None, 'finish_reason': 'stop'}], 'usage': {'prompt_tokens': 73, 'completion_tokens': 36, 'total_tokens': 109}}\n",
       "3                                                                                                                                                                                              {'id': 'cmpl-8cb5ad6e-7262-4d73-8955-59403330b451', 'object': 'text_completion', 'created': 1695187678, 'model': '/Users/hanlianlyu/llama2/TheBloke/OpenOrca-Platypus2-13B-GGUF/openorca-platypus2-13B-Q4_K_M.gguf', 'choices': [{'text': '（Artificial Intelligence Applications and Security）\n",
       "\n",
       "The provided text is already in English.\n",
       "\n",
       "However, if you meant to translate it from Chinese, please provide the Chinese text.', 'index': 0, 'logprobs': None, 'finish_reason': 'stop'}], 'usage': {'prompt_tokens': 21, 'completion_tokens': 40, 'total_tokens': 61}}\n",
       "4                                                                                                                                                                                                                                                                                                                          {'id': 'cmpl-fda3e73d-8952-430e-b0be-4436d4d13b28', 'object': 'text_completion', 'created': 1695187683, 'model': '/Users/hanlianlyu/llama2/TheBloke/OpenOrca-Platypus2-13B-GGUF/openorca-platypus2-13B-Q4_K_M.gguf', 'choices': [{'text': '感性体验\n",
       "\n",
       "Translation: Consumer Insight, Sensory Experience', 'index': 0, 'logprobs': None, 'finish_reason': 'stop'}], 'usage': {'prompt_tokens': 20, 'completion_tokens': 23, 'total_tokens': 43}}\n",
       "Name: Trans_task, dtype: object"
      ]
     },
     "execution_count": 128,
     "metadata": {},
     "output_type": "execute_result"
    }
   ],
   "source": [
    "\n",
    "# Set the option to display the maximum column width\n",
    "pd.set_option('display.max_colwidth', None)\n",
    "# Set the print option to show everything\n",
    "np.set_printoptions(threshold=np.inf)\n",
    "#print(response)\n",
    "response"
   ]
  },
  {
   "cell_type": "code",
   "execution_count": 129,
   "id": "0f482884-e250-4ca2-98a9-3da46b54e4a1",
   "metadata": {
    "tags": []
   },
   "outputs": [],
   "source": [
    "df_test['summarized'] = response.apply(lambda x : x['choices'][0]['text'])"
   ]
  },
  {
   "cell_type": "code",
   "execution_count": 130,
   "id": "74f4ff19-7b1f-4987-be90-aa3eb6460b82",
   "metadata": {},
   "outputs": [
    {
     "data": {
      "text/html": [
       "<div>\n",
       "<style scoped>\n",
       "    .dataframe tbody tr th:only-of-type {\n",
       "        vertical-align: middle;\n",
       "    }\n",
       "\n",
       "    .dataframe tbody tr th {\n",
       "        vertical-align: top;\n",
       "    }\n",
       "\n",
       "    .dataframe thead th {\n",
       "        text-align: right;\n",
       "    }\n",
       "</style>\n",
       "<table border=\"1\" class=\"dataframe\">\n",
       "  <thead>\n",
       "    <tr style=\"text-align: right;\">\n",
       "      <th></th>\n",
       "      <th>Trans_task</th>\n",
       "      <th>summarized</th>\n",
       "    </tr>\n",
       "  </thead>\n",
       "  <tbody>\n",
       "    <tr>\n",
       "      <th>0</th>\n",
       "      <td>Translate the Chinese passage into English: 市场分析</td>\n",
       "      <td>（Market Analysis）\\n\\nThe given Chinese text \"市场分析\" (Shìchǎng Fēnjī) can be translated into English as \"Market Analysis.\"</td>\n",
       "    </tr>\n",
       "    <tr>\n",
       "      <th>1</th>\n",
       "      <td>Translate the Chinese passage into English: 如果在环境受限制，具体为有合规隐私等限制的情形下在有限的客户接触点中收集数据，帮助分析和画像建立</td>\n",
       "      <td>。\\n\\nIf data is collected in limited customer touchpoints under the circumstances of having compliant privacy restrictions, it helps with analysis and image building.\\n\\nIn a restricted environment with specific limitations, such as having compliant privacy regulations, collecting data in limited customer contact points can help with analysis and image construction.</td>\n",
       "    </tr>\n",
       "    <tr>\n",
       "      <th>2</th>\n",
       "      <td>Translate the Chinese passage into English: 希望数据分析能够帮助我合理梳理日常工作在系统中产生的数据，做出相关报表帮助业务分析和提效</td>\n",
       "      <td>。\\n\\nI hope data analysis can help me reasonably organize the data generated in daily work within the system, and produce relevant reports to assist business analysis and improve efficiency.</td>\n",
       "    </tr>\n",
       "    <tr>\n",
       "      <th>3</th>\n",
       "      <td>Translate the Chinese passage into English: 人工智能的应用与安全</td>\n",
       "      <td>（Artificial Intelligence Applications and Security）\\n\\nThe provided text is already in English.\\n\\nHowever, if you meant to translate it from Chinese, please provide the Chinese text.</td>\n",
       "    </tr>\n",
       "    <tr>\n",
       "      <th>4</th>\n",
       "      <td>Translate the Chinese passage into English: 消费者洞察</td>\n",
       "      <td>感性体验\\n\\nTranslation: Consumer Insight, Sensory Experience</td>\n",
       "    </tr>\n",
       "  </tbody>\n",
       "</table>\n",
       "</div>"
      ],
      "text/plain": [
       "                                                                                     Trans_task  \\\n",
       "0                                              Translate the Chinese passage into English: 市场分析   \n",
       "1  Translate the Chinese passage into English: 如果在环境受限制，具体为有合规隐私等限制的情形下在有限的客户接触点中收集数据，帮助分析和画像建立   \n",
       "2      Translate the Chinese passage into English: 希望数据分析能够帮助我合理梳理日常工作在系统中产生的数据，做出相关报表帮助业务分析和提效   \n",
       "3                                        Translate the Chinese passage into English: 人工智能的应用与安全   \n",
       "4                                             Translate the Chinese passage into English: 消费者洞察   \n",
       "\n",
       "                                                                                                                                                                                                                                                                                                                                                                         summarized  \n",
       "0                                                                                                                                                                                                                                                          （Market Analysis）\\n\\nThe given Chinese text \"市场分析\" (Shìchǎng Fēnjī) can be translated into English as \"Market Analysis.\"  \n",
       "1  。\\n\\nIf data is collected in limited customer touchpoints under the circumstances of having compliant privacy restrictions, it helps with analysis and image building.\\n\\nIn a restricted environment with specific limitations, such as having compliant privacy regulations, collecting data in limited customer contact points can help with analysis and image construction.  \n",
       "2                                                                                                                                                                                    。\\n\\nI hope data analysis can help me reasonably organize the data generated in daily work within the system, and produce relevant reports to assist business analysis and improve efficiency.  \n",
       "3                                                                                                                                                                                           （Artificial Intelligence Applications and Security）\\n\\nThe provided text is already in English.\\n\\nHowever, if you meant to translate it from Chinese, please provide the Chinese text.  \n",
       "4                                                                                                                                                                                                                                                                                                                         感性体验\\n\\nTranslation: Consumer Insight, Sensory Experience  "
      ]
     },
     "execution_count": 130,
     "metadata": {},
     "output_type": "execute_result"
    }
   ],
   "source": [
    "df_test"
   ]
  },
  {
   "cell_type": "code",
   "execution_count": null,
   "id": "711fb15a-9c91-4a5a-9080-beecfe7b3984",
   "metadata": {},
   "outputs": [],
   "source": []
  },
  {
   "cell_type": "code",
   "execution_count": null,
   "id": "88265371-fd5b-4098-9d92-a092571f183c",
   "metadata": {},
   "outputs": [],
   "source": []
  }
 ],
 "metadata": {
  "kernelspec": {
   "display_name": "Python llama2",
   "language": "python",
   "name": "llama2"
  },
  "language_info": {
   "codemirror_mode": {
    "name": "ipython",
    "version": 3
   },
   "file_extension": ".py",
   "mimetype": "text/x-python",
   "name": "python",
   "nbconvert_exporter": "python",
   "pygments_lexer": "ipython3",
   "version": "3.11.5"
  }
 },
 "nbformat": 4,
 "nbformat_minor": 5
}
